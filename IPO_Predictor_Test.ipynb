{
 "cells": [
  {
   "cell_type": "code",
   "execution_count": 1,
   "id": "54293c8f-4c1b-418f-93d0-0875ed4f60a8",
   "metadata": {},
   "outputs": [],
   "source": [
    "# Required libraries\n",
    "import yfinance as yf\n",
    "import requests\n",
    "from textblob import TextBlob\n",
    "import pandas as pd\n",
    "from sklearn.impute import SimpleImputer\n",
    "from sklearn.model_selection import train_test_split\n",
    "from sklearn.linear_model import LinearRegression\n",
    "from sklearn.ensemble import RandomForestRegressor\n",
    "from xgboost import XGBRegressor\n",
    "from sklearn.metrics import mean_absolute_error, r2_score\n",
    "import pickle"
   ]
  },
  {
   "cell_type": "code",
   "execution_count": 2,
   "id": "7c0be0b8-157a-4b43-85e4-892eeb0be044",
   "metadata": {},
   "outputs": [],
   "source": [
    "# Replace with your News API key\n",
    "news_api_key = '267e28c3635649348ba8b077b412e418'\n",
    "\n",
    "# Function to fetch IPO data using yfinance\n",
    "def get_ipo_data(ticker):\n",
    "    stock = yf.Ticker(ticker)\n",
    "    ipo_data = {\n",
    "        \"ticker\": ticker,\n",
    "        \"IPO_date\": stock.info.get(\"ipoDate\"),\n",
    "        \"Market_Cap\": stock.info.get(\"marketCap\"),\n",
    "        \"P/E_Ratio\": stock.info.get(\"forwardPE\"),\n",
    "        \"Dividend_Yield\": stock.info.get(\"dividendYield\"),\n",
    "        \"52_week_range\": stock.info.get(\"fiftyTwoWeekRange\"),\n",
    "        \"Price\": stock.history(period='1d')['Close'].iloc[-1],\n",
    "    }\n",
    "    return ipo_data"
   ]
  },
  {
   "cell_type": "code",
   "execution_count": 3,
   "id": "f856076c-acb3-45d2-b17e-f05122863dd9",
   "metadata": {},
   "outputs": [],
   "source": [
    "# Function to fetch news articles related to a company\n",
    "def fetch_news(company_name, api_key):\n",
    "    url = f\"https://newsapi.org/v2/everything?q={company_name}&apiKey={api_key}\"\n",
    "    response = requests.get(url)\n",
    "    articles = response.json().get('articles', [])\n",
    "    return articles"
   ]
  },
  {
   "cell_type": "code",
   "execution_count": 4,
   "id": "ca33e277-db83-4bf0-a359-d7249ec53634",
   "metadata": {},
   "outputs": [],
   "source": [
    "# Function to perform sentiment analysis on news articles\n",
    "def analyze_sentiment(articles):\n",
    "    sentiment_scores = []\n",
    "    for article in articles:\n",
    "        title = article.get('title') or ''  # Use empty string if title is None\n",
    "        description = article.get('description') or ''  # Use empty string if description is None\n",
    "        text = title + \" \" + description\n",
    "        blob = TextBlob(text)\n",
    "        sentiment_scores.append(blob.sentiment.polarity)\n",
    "    return sum(sentiment_scores) / len(sentiment_scores) if sentiment_scores else 0\n",
    "\n",
    "# Tickers for companies you want to analyze (include actual IPO tickers)\n",
    "tickers = [\"AAPL\", \"MSFT\", \"GOOGL\", \"TSLA\"]  # Add relevant IPO tickers here\n",
    "historical_ipo_data = []"
   ]
  },
  {
   "cell_type": "code",
   "execution_count": 5,
   "id": "bce45b78-2a2f-456b-81a2-be7ff8973869",
   "metadata": {},
   "outputs": [],
   "source": [
    "# Collect data for each ticker\n",
    "for ticker in tickers:\n",
    "    ipo_data = get_ipo_data(ticker)\n",
    "    \n",
    "    # Check if key data fields are available, skip if missing\n",
    "    if ipo_data['Market_Cap'] is not None and ipo_data['P/E_Ratio'] is not None:\n",
    "        \n",
    "        # Fetch and analyze news sentiment\n",
    "        news_articles = fetch_news(ticker, news_api_key)\n",
    "        sentiment_score = analyze_sentiment(news_articles) if news_articles else 0\n",
    "\n",
    "        # Add sentiment score and placeholder for IPO performance\n",
    "        ipo_data['Sentiment_Score'] = sentiment_score\n",
    "        ipo_data['IPO_Performance'] = 0.05  # Replace with real data if available\n",
    "        historical_ipo_data.append(ipo_data)\n"
   ]
  },
  {
   "cell_type": "code",
   "execution_count": 6,
   "id": "589ab3a7-0434-4402-b05c-a9dee39e2ade",
   "metadata": {},
   "outputs": [],
   "source": [
    "# Convert list of IPO data to DataFrame\n",
    "historical_ipo_data = pd.DataFrame(historical_ipo_data)"
   ]
  },
  {
   "cell_type": "code",
   "execution_count": 7,
   "id": "92b2a62c-5677-4cd7-aa77-04d4a95c2908",
   "metadata": {},
   "outputs": [],
   "source": [
    "# Prepare data for model training\n",
    "X = historical_ipo_data[['Market_Cap', 'P/E_Ratio', 'Dividend_Yield', 'Sentiment_Score']]\n",
    "y = historical_ipo_data['IPO_Performance']  # Replace with actual target variable"
   ]
  },
  {
   "cell_type": "code",
   "execution_count": 8,
   "id": "dc89e345-e494-445d-8140-c29d87de199f",
   "metadata": {},
   "outputs": [],
   "source": [
    "# Handle missing values by imputing them\n",
    "imputer = SimpleImputer(strategy='mean')  # Choose 'mean', 'median', or 'most_frequent' as needed\n",
    "X_imputed = imputer.fit_transform(X)"
   ]
  },
  {
   "cell_type": "code",
   "execution_count": 9,
   "id": "a438b4b9-8ac7-4785-896c-12aee3b3b2da",
   "metadata": {},
   "outputs": [],
   "source": [
    "# Split data into training and testing sets\n",
    "X_train, X_test, y_train, y_test = train_test_split(X_imputed, y, test_size=0.2, random_state=42)"
   ]
  },
  {
   "cell_type": "code",
   "execution_count": 10,
   "id": "f0846fa9-8bf5-49a9-b569-aa7576f11585",
   "metadata": {},
   "outputs": [],
   "source": [
    "# Define models to test\n",
    "models = {\n",
    "    \"Linear Regression\": LinearRegression(),\n",
    "    \"Random Forest\": RandomForestRegressor(n_estimators=100, random_state=42),\n",
    "    \"XGBoost\": XGBRegressor(objective='reg:squarederror', n_estimators=100, random_state=42)\n",
    "}"
   ]
  },
  {
   "cell_type": "code",
   "execution_count": 11,
   "id": "7f65db46-c6c9-46a0-b32a-2b666037bea9",
   "metadata": {},
   "outputs": [
    {
     "name": "stdout",
     "output_type": "stream",
     "text": [
      "Linear Regression - Mean Absolute Error: 6.938893903907228e-18, R² Score: nan\n",
      "Random Forest - Mean Absolute Error: 9.020562075079397e-17, R² Score: nan\n",
      "XGBoost - Mean Absolute Error: 7.450580569168253e-10, R² Score: nan\n"
     ]
    },
    {
     "name": "stderr",
     "output_type": "stream",
     "text": [
      "/Users/ayusharyakashyap/Library/Python/3.11/lib/python/site-packages/sklearn/metrics/_regression.py:1211: UndefinedMetricWarning: R^2 score is not well-defined with less than two samples.\n",
      "  warnings.warn(msg, UndefinedMetricWarning)\n",
      "/Users/ayusharyakashyap/Library/Python/3.11/lib/python/site-packages/sklearn/metrics/_regression.py:1211: UndefinedMetricWarning: R^2 score is not well-defined with less than two samples.\n",
      "  warnings.warn(msg, UndefinedMetricWarning)\n",
      "/Users/ayusharyakashyap/Library/Python/3.11/lib/python/site-packages/sklearn/metrics/_regression.py:1211: UndefinedMetricWarning: R^2 score is not well-defined with less than two samples.\n",
      "  warnings.warn(msg, UndefinedMetricWarning)\n"
     ]
    }
   ],
   "source": [
    "# Dictionary to store results\n",
    "results = {}\n",
    "\n",
    "# Train and evaluate each model\n",
    "for model_name, model in models.items():\n",
    "    model.fit(X_train, y_train)\n",
    "    predictions = model.predict(X_test)\n",
    "    mae = mean_absolute_error(y_test, predictions)\n",
    "    r2 = r2_score(y_test, predictions)\n",
    "    results[model_name] = {\"MAE\": mae, \"R² Score\": r2}\n",
    "    print(f\"{model_name} - Mean Absolute Error: {mae}, R² Score: {r2}\")"
   ]
  },
  {
   "cell_type": "code",
   "execution_count": 12,
   "id": "06a3f4af-df59-4400-aab0-43490a590097",
   "metadata": {},
   "outputs": [
    {
     "name": "stdout",
     "output_type": "stream",
     "text": [
      "The best model is Linear Regression with R² Score of nan\n"
     ]
    }
   ],
   "source": [
    "# Select the model with the best R² Score\n",
    "best_model_name = max(results, key=lambda x: results[x][\"R² Score\"])\n",
    "best_model = models[best_model_name]\n",
    "print(f\"The best model is {best_model_name} with R² Score of {results[best_model_name]['R² Score']}\")"
   ]
  },
  {
   "cell_type": "code",
   "execution_count": 13,
   "id": "c60f8be7-5f49-4e42-8e8d-96bab84c1f63",
   "metadata": {},
   "outputs": [
    {
     "name": "stdout",
     "output_type": "stream",
     "text": [
      "Model saved as best_ipo_predictor_model.pkl\n"
     ]
    }
   ],
   "source": [
    "# Save the best model to a file\n",
    "with open(\"best_ipo_predictor_model.pkl\", \"wb\") as file:\n",
    "    pickle.dump(best_model, file)\n",
    "\n",
    "print(\"Model saved as best_ipo_predictor_model.pkl\")"
   ]
  },
  {
   "cell_type": "code",
   "execution_count": 14,
   "id": "4d644234-0f8a-4ec2-a0bd-1625be13ac77",
   "metadata": {},
   "outputs": [],
   "source": [
    "# Load the model for future predictions (Example)\n",
    "with open(\"best_ipo_predictor_model.pkl\", \"rb\") as file:\n",
    "    loaded_model = pickle.load(file)"
   ]
  },
  {
   "cell_type": "code",
   "execution_count": 15,
   "id": "2dd28079-79eb-44a1-ae42-be489939e41a",
   "metadata": {},
   "outputs": [],
   "source": [
    "# Predict on new data (Example)\n",
    "new_data = pd.DataFrame({\n",
    "    \"Market_Cap\": [1e9],          # Example value\n",
    "    \"P/E_Ratio\": [60],             # Example value\n",
    "    \"Dividend_Yield\": [0.01],      # Example value\n",
    "    \"Sentiment_Score\": [0.5]       # Example sentiment score\n",
    "})"
   ]
  },
  {
   "cell_type": "code",
   "execution_count": 16,
   "id": "406f4fa7-e461-4a86-a028-42df17e66c93",
   "metadata": {},
   "outputs": [
    {
     "name": "stdout",
     "output_type": "stream",
     "text": [
      "Predicted IPO Performance: 0.05000000000000001\n"
     ]
    },
    {
     "name": "stderr",
     "output_type": "stream",
     "text": [
      "/Users/ayusharyakashyap/Library/Python/3.11/lib/python/site-packages/sklearn/base.py:486: UserWarning: X has feature names, but LinearRegression was fitted without feature names\n",
      "  warnings.warn(\n"
     ]
    }
   ],
   "source": [
    "# Make prediction\n",
    "new_prediction = loaded_model.predict(new_data)\n",
    "print(\"Predicted IPO Performance:\", new_prediction[0])"
   ]
  },
  {
   "cell_type": "code",
   "execution_count": null,
   "id": "c2f5a8eb-a327-4f28-86fd-cd8d4bd5b106",
   "metadata": {},
   "outputs": [],
   "source": []
  }
 ],
 "metadata": {
  "kernelspec": {
   "display_name": "Python 3 (ipykernel)",
   "language": "python",
   "name": "python3"
  },
  "language_info": {
   "codemirror_mode": {
    "name": "ipython",
    "version": 3
   },
   "file_extension": ".py",
   "mimetype": "text/x-python",
   "name": "python",
   "nbconvert_exporter": "python",
   "pygments_lexer": "ipython3",
   "version": "3.11.0"
  }
 },
 "nbformat": 4,
 "nbformat_minor": 5
}
